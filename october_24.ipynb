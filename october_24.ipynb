{
 "cells": [
  {
   "cell_type": "code",
   "outputs": [],
   "source": [
    "import random\n",
    "import numpy as np\n",
    "\n",
    "color = [\n",
    "    ['A', 'B', 'B', 'C', 'C', 'C'],\n",
    "    ['A', 'B', 'B', 'C', 'C', 'C'],\n",
    "    ['A', 'A', 'B', 'B', 'C', 'C'],\n",
    "    ['A', 'A', 'B', 'B', 'C', 'C'],\n",
    "    ['A', 'A', 'A', 'B', 'B', 'C'],\n",
    "    ['A', 'A', 'A', 'B', 'B', 'C'],\n",
    "]\n",
    "\n",
    "def get_neighbors(cell):\n",
    "    x, y = cell\n",
    "    \n",
    "    neighbors = []\n",
    "    \n",
    "    for dx in [-1,1,-2,2]:\n",
    "        for dy in [-1,1,-2,2]:\n",
    "            if abs(dx) == abs(dy):\n",
    "                continue\n",
    "            if x + dx < 0 or x + dx >= len(color) or y + dy < 0 or y + dy >= len(color):\n",
    "                continue\n",
    "            neighbors += [(x+dx, y+dy)]\n",
    "    \n",
    "    return neighbors"
   ],
   "metadata": {
    "collapsed": false,
    "ExecuteTime": {
     "end_time": "2024-11-05T08:38:32.812855600Z",
     "start_time": "2024-11-05T08:38:32.774493800Z"
    }
   },
   "id": "b212e91af8eff749",
   "execution_count": 18
  },
  {
   "cell_type": "code",
   "outputs": [],
   "source": [
    "def evaluate_placement_path(A, B, C, path):\n",
    "    ans = A\n",
    "    for i, cell in enumerate(path[1:]):\n",
    "        prev_cell = path[i]\n",
    "        if color[cell[0]][cell[1]] == color[prev_cell[0]][prev_cell[1]]:\n",
    "            if color[cell[0]][cell[1]] == 'A':\n",
    "                ans += A\n",
    "            elif color[cell[0]][cell[1]] == 'B':\n",
    "                ans += B\n",
    "            else:\n",
    "                ans += C\n",
    "        \n",
    "        else:\n",
    "            if color[cell[0]][cell[1]] == 'A':\n",
    "                ans *= A\n",
    "            elif color[cell[0]][cell[1]] == 'B':\n",
    "                ans *= B\n",
    "            else:\n",
    "                ans *= C\n",
    "    return ans\n",
    "\n",
    "def evaluate_placement_coloring(A,B,C, coloring):\n",
    "    ans = A\n",
    "    for i, cur_color in enumerate(coloring[1:]):\n",
    "        prev_color = coloring[i]\n",
    "        if prev_color == cur_color:\n",
    "            if cur_color == 'A':\n",
    "                ans += A\n",
    "            elif cur_color == 'B':\n",
    "                ans += B\n",
    "            else:\n",
    "                ans += C\n",
    "        \n",
    "        else:\n",
    "            if cur_color == 'A':\n",
    "                ans *= A\n",
    "            elif cur_color == 'B':\n",
    "                ans *= B\n",
    "            else:\n",
    "                ans *= C\n",
    "    return ans"
   ],
   "metadata": {
    "collapsed": false,
    "ExecuteTime": {
     "end_time": "2024-11-05T08:38:35.726677900Z",
     "start_time": "2024-11-05T08:38:35.681713700Z"
    }
   },
   "id": "d8e52f3d9a7b098d",
   "execution_count": 19
  },
  {
   "cell_type": "code",
   "outputs": [],
   "source": [
    "def find_alternating_path(A,B,C, score, path, ans_ref):\n",
    "    if score == 2024:\n",
    "        if path[-1] == 'C' and 'B' in path:\n",
    "            ans_ref += [path]\n",
    "        return\n",
    "    elif score > 2024 or len(path) > 15:\n",
    "        return \n",
    "    \n",
    "    prev = path[-1]\n",
    "    \n",
    "    nxt_opts = ['A', 'B', 'C']\n",
    "    random.shuffle(nxt_opts)\n",
    "    for nxt in nxt_opts:\n",
    "        cur_score = score\n",
    "        if nxt == prev:\n",
    "           if nxt == 'A':\n",
    "               cur_score += A\n",
    "           elif nxt == 'B':\n",
    "               cur_score += B\n",
    "           else:\n",
    "               cur_score += C\n",
    "        else:\n",
    "            if nxt == 'A':\n",
    "                cur_score *= A\n",
    "            elif nxt == 'B':\n",
    "                cur_score *= B\n",
    "            else:\n",
    "                cur_score *= C\n",
    "        find_alternating_path(A,B,C,cur_score, path + [nxt], ans_ref)\n",
    "    "
   ],
   "metadata": {
    "collapsed": false,
    "ExecuteTime": {
     "end_time": "2024-11-05T08:38:38.498412Z",
     "start_time": "2024-11-05T08:38:38.466632700Z"
    }
   },
   "id": "a0831cc737c87e2",
   "execution_count": 20
  },
  {
   "cell_type": "code",
   "outputs": [
    {
     "name": "stdout",
     "output_type": "stream",
     "text": [
      "((1, 3, 2), ['A', 'C', 'B', 'B', 'A', 'C', 'B', 'C', 'C', 'C', 'B', 'A', 'B', 'B', 'C', 'C'])\n",
      "((1, 3, 2), ['A', 'C', 'B', 'B', 'A', 'C', 'B', 'C', 'C', 'C', 'B', 'A', 'A', 'B', 'C', 'C'])\n",
      "((1, 3, 2), ['A', 'C', 'B', 'B', 'A', 'C', 'B', 'A', 'A', 'B', 'B', 'C', 'B', 'B', 'C', 'C'])\n",
      "((1, 3, 2), ['A', 'C', 'B', 'B', 'A', 'C', 'B', 'A', 'A', 'A', 'B', 'C', 'B', 'B', 'C', 'C'])\n",
      "((1, 3, 2), ['A', 'C', 'B', 'B', 'A', 'C', 'B', 'A', 'B', 'B', 'B', 'C', 'B', 'B', 'C', 'C'])\n",
      "((1, 3, 2), ['A', 'C', 'B', 'B', 'A', 'B', 'C', 'A', 'A', 'A', 'B', 'C', 'B', 'B', 'C', 'C'])\n",
      "((1, 3, 2), ['A', 'C', 'B', 'B', 'A', 'B', 'C', 'A', 'A', 'B', 'B', 'C', 'B', 'B', 'C', 'C'])\n",
      "((1, 3, 2), ['A', 'C', 'B', 'B', 'A', 'B', 'C', 'A', 'B', 'B', 'B', 'C', 'B', 'B', 'C', 'C'])\n",
      "((1, 3, 2), ['A', 'C', 'B', 'B', 'A', 'B', 'C', 'C', 'B', 'A', 'C', 'B', 'B', 'A', 'C', 'C'])\n",
      "((1, 3, 2), ['A', 'C', 'B', 'B', 'A', 'B', 'C', 'C', 'B', 'A', 'C', 'B', 'B', 'A', 'A', 'C'])\n",
      "((1, 3, 2), ['A', 'C', 'B', 'B', 'A', 'B', 'C', 'C', 'B', 'A', 'C', 'B', 'B', 'C', 'C'])\n",
      "((1, 3, 2), ['A', 'C', 'B', 'B', 'A', 'B', 'C', 'C', 'B', 'A', 'C', 'A', 'A', 'B', 'C', 'C'])\n",
      "((1, 3, 2), ['A', 'C', 'B', 'B', 'A', 'B', 'C', 'C', 'B', 'A', 'C', 'A', 'B', 'B', 'C', 'C'])\n",
      "((1, 3, 2), ['A', 'C', 'B', 'B', 'A', 'B', 'C', 'C', 'B', 'A', 'B', 'C', 'C', 'C', 'A', 'C'])\n",
      "((1, 3, 2), ['A', 'C', 'B', 'B', 'A', 'B', 'C', 'C', 'B', 'C', 'B', 'B', 'A', 'A', 'C'])\n",
      "((1, 3, 2), ['A', 'C', 'B', 'B', 'A', 'B', 'C', 'C', 'B', 'C', 'B', 'B', 'A', 'C', 'C'])\n",
      "((1, 3, 2), ['A', 'C', 'B', 'B', 'A', 'B', 'C', 'C', 'B', 'C', 'B', 'B', 'C', 'C'])\n",
      "((1, 3, 2), ['A', 'C', 'B', 'B', 'A', 'B', 'C', 'C', 'B', 'C', 'B', 'C', 'C', 'C', 'C', 'C'])\n",
      "((1, 3, 2), ['A', 'C', 'B', 'B', 'A', 'B', 'C', 'C', 'B', 'C', 'A', 'B', 'B', 'C', 'C'])\n",
      "((1, 3, 2), ['A', 'C', 'B', 'B', 'A', 'B', 'C', 'C', 'B', 'C', 'A', 'B', 'B', 'A', 'A', 'C'])\n",
      "((1, 3, 2), ['A', 'C', 'B', 'B', 'A', 'B', 'C', 'C', 'B', 'C', 'A', 'B', 'B', 'A', 'C', 'C'])\n",
      "((1, 3, 2), ['A', 'C', 'B', 'B', 'A', 'B', 'C', 'C', 'B', 'C', 'A', 'A', 'B', 'A', 'C', 'C'])\n",
      "((1, 3, 2), ['A', 'C', 'B', 'B', 'A', 'B', 'C', 'C', 'B', 'C', 'A', 'A', 'B', 'A', 'A', 'C'])\n",
      "((1, 3, 2), ['A', 'C', 'B', 'B', 'A', 'B', 'C', 'C', 'B', 'C', 'A', 'A', 'B', 'C', 'C'])\n",
      "((1, 3, 2), ['A', 'C', 'B', 'B', 'A', 'B', 'C', 'C', 'A', 'B', 'C', 'A', 'A', 'B', 'C', 'C'])\n",
      "((1, 3, 2), ['A', 'C', 'B', 'B', 'A', 'B', 'C', 'C', 'A', 'B', 'C', 'A', 'B', 'B', 'C', 'C'])\n",
      "((1, 3, 2), ['A', 'C', 'B', 'B', 'A', 'B', 'C', 'C', 'A', 'B', 'C', 'B', 'B', 'C', 'C'])\n",
      "((1, 3, 2), ['A', 'C', 'B', 'B', 'A', 'B', 'C', 'C', 'A', 'B', 'C', 'B', 'B', 'A', 'C', 'C'])\n",
      "((1, 3, 2), ['A', 'C', 'B', 'B', 'A', 'B', 'C', 'C', 'A', 'B', 'C', 'B', 'B', 'A', 'A', 'C'])\n",
      "((1, 3, 2), ['A', 'C', 'B', 'B', 'A', 'B', 'C', 'C', 'A', 'B', 'A', 'C', 'B', 'B', 'C', 'C'])\n",
      "((1, 3, 2), ['A', 'C', 'B', 'B', 'A', 'B', 'C', 'C', 'A', 'C', 'B', 'A', 'A', 'B', 'C', 'C'])\n",
      "((1, 3, 2), ['A', 'C', 'B', 'B', 'A', 'B', 'C', 'C', 'A', 'C', 'B', 'A', 'B', 'B', 'C', 'C'])\n",
      "((1, 3, 2), ['A', 'C', 'B', 'B', 'A', 'B', 'C', 'B', 'B', 'B', 'A', 'C', 'B', 'B', 'C', 'C'])\n",
      "((1, 3, 2), ['A', 'C', 'B', 'B', 'A', 'B', 'C', 'B', 'B', 'B', 'C', 'B', 'B', 'C', 'C'])\n",
      "((1, 3, 2), ['A', 'C', 'B', 'B', 'A', 'B', 'C', 'B', 'B', 'B', 'C', 'B', 'B', 'A', 'C', 'C'])\n",
      "((1, 3, 2), ['A', 'C', 'B', 'B', 'A', 'B', 'C', 'B', 'B', 'B', 'C', 'B', 'B', 'A', 'A', 'C'])\n",
      "((1, 3, 2), ['A', 'C', 'B', 'B', 'A', 'B', 'C', 'B', 'B', 'B', 'C', 'A', 'A', 'B', 'C', 'C'])\n",
      "((1, 3, 2), ['A', 'C', 'B', 'B', 'A', 'B', 'C', 'B', 'B', 'B', 'C', 'A', 'B', 'B', 'C', 'C'])\n",
      "((1, 3, 2), ['A', 'C', 'B', 'B', 'A', 'B', 'A', 'B', 'B', 'C', 'B', 'C', 'C', 'C', 'A', 'C'])\n",
      "((1, 3, 2), ['A', 'C', 'B', 'B', 'A', 'B', 'A', 'B', 'B', 'C', 'A', 'C', 'B', 'B', 'C', 'C'])\n",
      "((1, 3, 2), ['A', 'C', 'B', 'B', 'A', 'B', 'A', 'C', 'C', 'B', 'A', 'C', 'B', 'B', 'C', 'C'])\n",
      "((1, 3, 2), ['A', 'C', 'B', 'B', 'A', 'B', 'A', 'C', 'C', 'B', 'C', 'A', 'A', 'B', 'C', 'C'])\n",
      "((1, 3, 2), ['A', 'C', 'B', 'B', 'A', 'B', 'A', 'C', 'C', 'B', 'C', 'A', 'B', 'B', 'C', 'C'])\n",
      "((1, 3, 2), ['A', 'C', 'B', 'B', 'A', 'B', 'A', 'C', 'C', 'B', 'C', 'B', 'B', 'A', 'C', 'C'])\n",
      "((1, 3, 2), ['A', 'C', 'B', 'B', 'A', 'B', 'A', 'C', 'C', 'B', 'C', 'B', 'B', 'A', 'A', 'C'])\n",
      "((1, 3, 2), ['A', 'C', 'B', 'B', 'A', 'B', 'A', 'C', 'C', 'B', 'C', 'B', 'B', 'C', 'C'])\n",
      "((1, 3, 2), ['A', 'C', 'B', 'B', 'A', 'B', 'A', 'C', 'C', 'A', 'B', 'C', 'B', 'B', 'C', 'C'])\n",
      "((1, 3, 2), ['A', 'C', 'B', 'B', 'A', 'B', 'A', 'C', 'B', 'B', 'B', 'C', 'B', 'B', 'C', 'C'])\n",
      "((1, 3, 2), ['A', 'C', 'B', 'B', 'A', 'B', 'A', 'A', 'C', 'B', 'A', 'C', 'B', 'B', 'C', 'C'])\n",
      "((1, 3, 2), ['A', 'C', 'B', 'B', 'A', 'B', 'A', 'A', 'C', 'B', 'C', 'A', 'A', 'B', 'C', 'C'])\n",
      "((1, 3, 2), ['A', 'C', 'B', 'B', 'A', 'B', 'A', 'A', 'C', 'B', 'C', 'A', 'B', 'B', 'C', 'C'])\n"
     ]
    }
   ],
   "source": [
    "good_coloring_seq = []\n",
    "\n",
    "cnt_printed = 0\n",
    "\n",
    "for A in range(1,50):\n",
    "    for B in range(1,50):\n",
    "        for C in range(1,50):\n",
    "            \n",
    "            if A == B or B == C or A == C:\n",
    "                continue\n",
    "            if A + B + C != 6: # not an optimal A + B + C\n",
    "                continue\n",
    "                \n",
    "            cur = []\n",
    "            find_alternating_path(A,B,C, A, ['A'], cur)\n",
    "            for path in cur:\n",
    "                good_coloring_seq += [((A, B, C), path, )]\n",
    "                \n",
    "                if cnt_printed <= 50:\n",
    "                    print(good_coloring_seq[-1])\n",
    "                    cnt_printed += 1"
   ],
   "metadata": {
    "collapsed": false,
    "ExecuteTime": {
     "end_time": "2024-11-05T08:40:34.672035800Z",
     "start_time": "2024-11-05T08:39:36.713963700Z"
    }
   },
   "id": "fac6e3c7310656a9",
   "execution_count": 21
  },
  {
   "cell_type": "code",
   "outputs": [],
   "source": [
    "def find_path_with_coloring(cur_cell, target_cell, path, coloring):\n",
    "    \n",
    "    path = path.copy() + [cur_cell]\n",
    "    if cur_cell == target_cell and len(path) == len(coloring):\n",
    "        # print(path)\n",
    "        return path\n",
    "    \n",
    "    if len(path) == len(coloring):\n",
    "        return []\n",
    "    \n",
    "    neighbors = get_neighbors(cur_cell)\n",
    "    random.shuffle(neighbors)\n",
    "    \n",
    "    next_color = coloring[len(path)]\n",
    "    \n",
    "    for neighbor in neighbors:\n",
    "        if color[neighbor[0]][neighbor[1]] == next_color and neighbor not in path:\n",
    "            ans = find_path_with_coloring(neighbor, target_cell, path, coloring)\n",
    "            if ans:\n",
    "                return ans"
   ],
   "metadata": {
    "collapsed": false,
    "ExecuteTime": {
     "end_time": "2024-11-05T08:40:34.688830900Z",
     "start_time": "2024-11-05T08:40:34.673243900Z"
    }
   },
   "id": "be64e6767acebb04",
   "execution_count": 22
  },
  {
   "cell_type": "code",
   "outputs": [],
   "source": [
    "values_2_colorings = {}\n",
    "\n",
    "for values, coloring in good_coloring_seq:\n",
    "    if values not in values_2_colorings:\n",
    "        values_2_colorings[values] = []\n",
    "    values_2_colorings[values] += [coloring]"
   ],
   "metadata": {
    "collapsed": false,
    "ExecuteTime": {
     "end_time": "2024-11-05T08:40:57.013077800Z",
     "start_time": "2024-11-05T08:40:56.996026700Z"
    }
   },
   "id": "fba1e7c37cf3a96a",
   "execution_count": 26
  },
  {
   "cell_type": "code",
   "outputs": [],
   "source": [
    "all_colorings = []\n",
    "for coloring in good_coloring_seq:\n",
    "    all_colorings.append(coloring[1])"
   ],
   "metadata": {
    "collapsed": false,
    "ExecuteTime": {
     "end_time": "2024-11-05T08:41:01.571247Z",
     "start_time": "2024-11-05T08:41:01.555126800Z"
    }
   },
   "id": "514df487f8b80bc7",
   "execution_count": 27
  },
  {
   "cell_type": "code",
   "outputs": [
    {
     "name": "stdout",
     "output_type": "stream",
     "text": [
      "found (values, forward_path, backward_path)=((1, 3, 2), [(0, 0), (2, 1), (4, 0), (3, 2), (5, 1), (4, 3), (3, 5), (1, 4), (2, 2), (0, 3), (1, 1), (2, 3), (4, 2), (3, 4), (5, 5)], [(5, 0), (4, 2), (3, 0), (2, 2), (1, 0), (0, 2), (1, 4), (3, 5), (4, 3), (2, 4), (1, 2), (3, 3), (2, 1), (1, 3), (0, 5)])\n",
      "found (values, forward_path, backward_path)=((1, 3, 2), [(0, 0), (2, 1), (4, 2), (2, 3), (3, 1), (1, 2), (2, 4), (4, 3), (2, 2), (0, 1), (1, 3), (3, 2), (5, 3), (3, 4), (5, 5)], [(5, 0), (3, 1), (1, 0), (0, 2), (2, 1), (3, 3), (2, 5), (4, 4), (2, 3), (1, 1), (0, 3), (2, 2), (4, 3), (2, 4), (0, 5)])\n",
      "found (values, forward_path, backward_path)=((1, 3, 2), [(0, 0), (2, 1), (4, 0), (3, 2), (1, 3), (0, 1), (2, 0), (1, 2), (3, 3), (5, 4), (3, 5), (4, 3), (2, 2), (3, 4), (5, 5)], [(5, 0), (3, 1), (1, 0), (0, 2), (1, 4), (3, 3), (4, 1), (5, 3), (3, 2), (1, 1), (0, 3), (2, 2), (4, 3), (2, 4), (0, 5)])\n",
      "found (values, forward_path, backward_path)=((1, 3, 2), [(0, 0), (2, 1), (4, 2), (2, 3), (3, 5), (4, 3), (3, 1), (5, 2), (4, 0), (3, 2), (1, 3), (0, 1), (2, 2), (3, 4), (5, 5)], [(5, 0), (4, 2), (3, 0), (2, 2), (1, 4), (0, 2), (1, 0), (3, 1), (5, 2), (3, 3), (4, 5), (5, 3), (3, 2), (2, 4), (0, 5)])\n",
      "found (values, forward_path, backward_path)=((1, 3, 2), [(0, 0), (2, 1), (4, 0), (3, 2), (1, 3), (0, 1), (2, 0), (4, 1), (3, 3), (5, 4), (3, 5), (4, 3), (2, 2), (3, 4), (5, 5)], [(5, 0), (3, 1), (5, 2), (4, 4), (2, 5), (3, 3), (2, 1), (4, 0), (3, 2), (1, 1), (0, 3), (2, 2), (4, 3), (2, 4), (0, 5)])\n",
      "found (values, forward_path, backward_path)=((1, 3, 2), [(0, 0), (2, 1), (4, 2), (5, 4), (3, 5), (4, 3), (2, 4), (0, 5), (1, 3), (0, 1), (2, 0), (3, 2), (5, 3), (3, 4), (5, 5)], [(5, 0), (4, 2), (2, 1), (0, 2), (1, 4), (3, 3), (2, 5), (1, 3), (3, 4), (5, 3), (4, 1), (2, 2), (4, 3), (2, 4), (0, 5)])\n",
      "found (values, forward_path, backward_path)=((1, 3, 2), [(0, 0), (2, 1), (4, 2), (2, 3), (3, 5), (4, 3), (2, 4), (0, 5), (1, 3), (3, 2), (2, 0), (4, 1), (2, 2), (3, 4), (5, 5)], [(5, 0), (3, 1), (5, 2), (3, 3), (1, 4), (2, 2), (3, 4), (1, 5), (0, 3), (1, 1), (3, 0), (5, 1), (3, 2), (2, 4), (0, 5)])\n",
      "found (values, forward_path, backward_path)=((1, 3, 2), [(0, 0), (2, 1), (1, 3), (0, 5), (2, 4), (3, 2), (1, 1), (0, 3), (1, 5), (2, 3), (3, 5), (4, 3), (2, 2), (3, 4), (5, 5)], [(5, 0), (4, 2), (3, 4), (1, 3), (2, 5), (3, 3), (5, 4), (3, 5), (1, 4), (2, 2), (0, 3), (1, 1), (3, 2), (2, 4), (0, 5)])\n",
      "found (values, forward_path, backward_path)=((1, 3, 2), [(0, 0), (2, 1), (0, 2), (2, 3), (0, 4), (1, 2), (2, 4), (0, 5), (1, 3), (3, 2), (2, 0), (4, 1), (5, 3), (3, 4), (5, 5)], [(5, 0), (4, 2), (2, 3), (0, 2), (1, 4), (2, 2), (3, 4), (1, 5), (0, 3), (1, 1), (3, 0), (5, 1), (4, 3), (2, 4), (0, 5)])\n",
      "found (values, forward_path, backward_path)=((1, 3, 2), [(0, 0), (2, 1), (3, 3), (1, 2), (2, 4), (3, 2), (1, 3), (2, 5), (0, 4), (2, 3), (3, 1), (4, 3), (2, 2), (3, 4), (5, 5)], [(5, 0), (4, 2), (5, 4), (3, 3), (4, 5), (5, 3), (3, 4), (1, 5), (0, 3), (1, 1), (3, 0), (2, 2), (0, 1), (1, 3), (0, 5)])\n",
      "found (values, forward_path, backward_path)=((1, 3, 2), [(0, 0), (2, 1), (0, 2), (2, 3), (0, 4), (1, 2), (2, 0), (0, 1), (2, 2), (4, 3), (2, 4), (3, 2), (5, 3), (3, 4), (5, 5)], [(5, 0), (4, 2), (2, 3), (4, 4), (2, 5), (3, 3), (4, 1), (5, 3), (3, 2), (1, 1), (0, 3), (2, 2), (0, 1), (1, 3), (0, 5)])\n",
      "found (values, forward_path, backward_path)=((1, 3, 2), [(0, 0), (2, 1), (3, 3), (1, 2), (2, 4), (3, 2), (5, 1), (3, 0), (1, 1), (2, 3), (3, 5), (4, 3), (2, 2), (3, 4), (5, 5)], [(5, 0), (3, 1), (2, 3), (4, 4), (2, 5), (3, 3), (2, 1), (4, 0), (3, 2), (5, 3), (3, 4), (2, 2), (4, 3), (2, 4), (0, 5)])\n",
      "found (values, forward_path, backward_path)=((1, 3, 2), [(0, 0), (2, 1), (3, 3), (1, 2), (0, 4), (2, 3), (4, 2), (5, 0), (3, 1), (4, 3), (2, 4), (3, 2), (5, 3), (3, 4), (5, 5)], [(5, 0), (4, 2), (2, 3), (1, 1), (0, 3), (2, 2), (1, 0), (3, 1), (5, 2), (3, 3), (4, 5), (5, 3), (3, 2), (2, 4), (0, 5)])\n",
      "found (values, forward_path, backward_path)=((1, 3, 2), [(0, 0), (2, 1), (3, 3), (1, 2), (3, 1), (4, 3), (2, 4), (0, 3), (2, 2), (1, 4), (0, 2), (2, 3), (4, 2), (3, 4), (5, 5)], [(5, 0), (3, 1), (4, 3), (2, 2), (3, 0), (1, 1), (0, 3), (2, 4), (1, 2), (0, 4), (2, 3), (0, 2), (2, 1), (1, 3), (0, 5)])\n",
      "found (values, forward_path, backward_path)=((1, 3, 2), [(0, 0), (2, 1), (3, 3), (5, 4), (4, 2), (2, 3), (3, 5), (4, 3), (2, 2), (0, 1), (1, 3), (3, 2), (5, 3), (3, 4), (5, 5)], [(5, 0), (4, 2), (2, 3), (0, 2), (2, 1), (3, 3), (4, 5), (5, 3), (3, 2), (1, 1), (0, 3), (2, 2), (0, 1), (1, 3), (0, 5)])\n"
     ]
    }
   ],
   "source": [
    "for values, colorings in values_2_colorings.items():\n",
    "    if np.sum(values) > 6:\n",
    "        continue\n",
    "    for coloring in colorings:\n",
    "        \n",
    "        forward_path = find_path_with_coloring((0,0), (5,5), [], coloring)\n",
    "        backward_path = find_path_with_coloring((5,0), (0,5), [], coloring)\n",
    "        if forward_path and backward_path:\n",
    "            print(f'found {(values, forward_path, backward_path)=}')\n"
   ],
   "metadata": {
    "collapsed": false,
    "ExecuteTime": {
     "end_time": "2024-11-05T08:41:05.482976800Z",
     "start_time": "2024-11-05T08:41:03.797834800Z"
    }
   },
   "id": "4ee1f691ef57c4e1",
   "execution_count": 28
  },
  {
   "cell_type": "code",
   "outputs": [
    {
     "name": "stdout",
     "output_type": "stream",
     "text": [
      "forward path score: 2024\n",
      "backward path score: 2024\n"
     ]
    }
   ],
   "source": [
    "(A, B, C), forward_path, backward_path = ((1, 3, 2), [(0, 0), (2, 1), (4, 2), (2, 3), (3, 1), (4, 3), (3, 5), (5, 4), (3, 3), (1, 2), (2, 4), (3, 2), (5, 3), (3, 4), (5, 5)], [(5, 0), (4, 2), (2, 1), (0, 2), (1, 0), (2, 2), (3, 4), (5, 3), (3, 2), (4, 4), (2, 5), (3, 3), (1, 2), (2, 4), (0, 5)])\n",
    "\n",
    "\n",
    "print(f'forward path score: {evaluate_placement_path(A, B, C, forward_path)}')\n",
    "print(f'backward path score: {evaluate_placement_path(A, B, C, backward_path)}')"
   ],
   "metadata": {
    "collapsed": false,
    "ExecuteTime": {
     "end_time": "2024-11-05T08:41:25.402794700Z",
     "start_time": "2024-11-05T08:41:25.392611800Z"
    }
   },
   "id": "8512162b49089d59",
   "execution_count": 31
  }
 ],
 "metadata": {
  "kernelspec": {
   "display_name": "Python 3",
   "language": "python",
   "name": "python3"
  },
  "language_info": {
   "codemirror_mode": {
    "name": "ipython",
    "version": 2
   },
   "file_extension": ".py",
   "mimetype": "text/x-python",
   "name": "python",
   "nbconvert_exporter": "python",
   "pygments_lexer": "ipython2",
   "version": "2.7.6"
  }
 },
 "nbformat": 4,
 "nbformat_minor": 5
}
